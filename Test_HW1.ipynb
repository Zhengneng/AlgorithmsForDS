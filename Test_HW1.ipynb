{
 "cells": [
  {
   "cell_type": "code",
   "execution_count": 141,
   "metadata": {
    "collapsed": false
   },
   "outputs": [],
   "source": [
    "import urllib2\n",
    "import re\n",
    "homer = urllib2.urlopen('http://people.sc.fsu.edu/~jburkardt/datasets/sgb/homer.dat')\n",
    "list = homer.read().split('\\n')"
   ]
  },
  {
   "cell_type": "code",
   "execution_count": 142,
   "metadata": {
    "collapsed": true
   },
   "outputs": [],
   "source": [
    "def read_nodes(gfile):\n",
    "    nodes = [i.split(' ',1)[0] for i in list if re.match(r'.{2} ',i)]\n",
    "    return nodes"
   ]
  },
  {
   "cell_type": "code",
   "execution_count": 143,
   "metadata": {
    "collapsed": true
   },
   "outputs": [],
   "source": [
    "def read_edges(gfile):\n",
    "    edges = [re.sub(r'.{1,2}:', '',i) for i in list if re.match(r'.{1,2}:',i)]\n",
    "    edges = ','.join(edges)\n",
    "    edges = edges.split(';')\n",
    "    res = []\n",
    "    for k in edges:\n",
    "        k = k.split(',')\n",
    "        for i in range(len(k)):\n",
    "            j = i+1\n",
    "            while j < len(k):\n",
    "                set = (k[i],k[j])\n",
    "                j += 1\n",
    "                res.append(set)\n",
    "    return res"
   ]
  },
  {
   "cell_type": "code",
   "execution_count": 144,
   "metadata": {
    "collapsed": true
   },
   "outputs": [],
   "source": [
    "def DFS(graph, start):\n",
    "    visited, stack = set(), [start]\n",
    "    while stack:\n",
    "        vertex = stack.pop()\n",
    "        if vertex not in visited:\n",
    "            visited.add(vertex)\n",
    "            stack.extend(set(graph[vertex].keys()) - visited)\n",
    "    return visited"
   ]
  },
  {
   "cell_type": "code",
   "execution_count": 145,
   "metadata": {
    "collapsed": true
   },
   "outputs": [],
   "source": [
    "import networkx as nx\n",
    "G = nx.Graph()\n",
    "G.add_nodes_from(read_nodes(list))\n",
    "G.add_edges_from(read_edges(list))"
   ]
  },
  {
   "cell_type": "code",
   "execution_count": 146,
   "metadata": {
    "collapsed": false
   },
   "outputs": [],
   "source": [
    "#G['OD'].key"
   ]
  },
  {
   "cell_type": "code",
   "execution_count": 148,
   "metadata": {
    "collapsed": false
   },
   "outputs": [
    {
     "name": "stdout",
     "output_type": "stream",
     "text": [
      "set(['G2', 'G1', 'G0', 'GS', 'GR', 'GL', '3Z', '3Y', '3X', '3S', '3R', '3Q', '3P', '3W', '3V', '3U', '3T', '3K', '3J', '3I', '3H', 'M1', '3N', '3M', 'M2', '3C', '3B', '3A', '3G', '3F', '3E', '3D', 'Z0', 'Z1', 'ZE', 'ZF', 'ME', 'MG', '38', 'MC', '33', '32', '31', '30', '37', '36', '35', '34', 'MT', 'MR', 'S2', 'S1', 'S0', 'FD', '9I', '9K', '9J', '9M', '9L', '9O', '9N', '9A', '9C', '9B', '9E', '9D', '9Y', '9X', '9Z', 'RU', '9S', '9R', '9U', '9T', '9W', '9V', '43', '99', '98', '90', '93', '92', '95', '94', '97', '96', 'F0', 'F1', 'F2', 'SP', 'ST', 'SI', 'SL', 'SA', 'SF', 'SE', 'LE', 'LA', 'LT', 'LY', 'L2', 'L0', 'L1', 'Y1', 'Y0', '24', '25', '26', '27', '20', '21', '22', '23', '28', '29', 'RA', 'RO', 'RH', '2T', '2U', '2V', '2W', '2P', 'R1', '2R', '2S', '2X', '2Y', '2Z', '2D', '2E', '2F', '2G', '2A', '2B', '2C', '2L', '2M', '2N', '2O', '2H', '2I', '2J', '2K', '1C', 'K0', '88', '89', '82', '83', '80', '81', '86', '87', '84', '85', 'E1', 'E0', 'E2', 'EM', 'EO', 'EN', 'EE', 'EF', 'EA', 'EB', 'EU', 'EP', 'ER', '8J', '8K', '8H', '8I', '8N', '8O', '8L', '8M', '8B', '8C', '8A', '8F', '8G', '8D', '8E', '8Z', '8X', '8Y', '8R', '8P', '8Q', '8V', '8W', '8T', '8U', '1Q', '1P', '1S', '1R', '1U', '1T', '1W', '1V', '1Y', '1X', '1Z', '1A', 'K2', 'K1', '1B', '1E', '1D', '1G', '1F', '1I', '1H', '1K', '1J', '1M', '1L', '1O', '1N', 'X2', 'X0', 'X1', 'XB', 'XA', '11', '10', '13', '12', '15', '14', '17', '16', '19', '18', '3O', 'M0', 'DN', 'Q0', 'DM', 'DI', 'DE', 'DT', 'DP', '7G', '7F', '7E', '7D', '7C', '7B', '7A', '7M', '7L', '7K', '7J', '7I', '7H', '7W', '7V', '7U', '7T', '7S', '7R', '7Z', '7Y', '7X', 'PR', '03', '77', '76', '75', '74', '73', '72', '71', '70', '79', '78', '04', 'T0', 'PU', '4Z', '08', 'D0', 'D1', 'T1', 'WI', '42', '5U', '5V', 'J0', 'J1', 'J2', 'W2', 'W1', 'W0', '3L', 'P2', 'BR', 'P0', 'P1', '02', 'PS', 'PP', '01', '06', '07', 'PT', '05', 'PX', '09', 'PB', 'PC', 'PA', '5C', 'PD', 'PE', 'PH', 'O0', 'PN', 'PO', 'PL', '0R', '0S', '0P', '0Q', '0V', '0W', '0T', '0U', '0Z', '0X', '0Y', '0B', '0C', '0A', '0F', '0G', '0D', '0E', '0J', '0K', '0H', '0I', '0N', '0O', '0L', '0M', '4R', 'Q1', '60', '61', '62', 'Q2', '64', '65', '66', '67', '68', '69', 'C2', 'C1', 'C0', 'CI', 'CH', 'CN', 'CM', 'CL', 'CA', '39', 'CS', 'CR', 'CT', '6A', '6B', '6C', '6D', '6E', '6F', '6G', '6H', '6I', '6J', '6K', '6L', '6M', '6N', '6O', '6P', '6Q', '6R', '6S', '6T', '6U', '6V', '6W', '6X', '6Y', '6Z', 'MO', 'R0', '2Q', 'R2', 'I1', 'I0', 'I2', 'V0', 'V1', 'V2', 'IR', 'IA', 'ID', 'TY', 'TT', '45', '5Y', '5X', '5Z', 'BL', '5T', '5W', 'BO', '5Q', '5P', '5S', '5R', '5M', '5L', '5O', '5N', '5I', '5H', '5K', '5J', '5E', '5D', '5G', '5F', '5A', 'O2', 'O1', '5B', 'A2', 'FY', '59', '58', 'OG', '57', 'OD', 'OC', '53', '52', '63', 'B0', 'B1', 'B2', 'OT', '56', 'HR', '51', 'HP', 'U1', 'U0', 'HT', 'U2', 'HN', 'HL', 'HM', 'HB', 'HC', 'HA', 'HD', 'HE', 'AG', '4Y', '4V', 'AH', 'AJ', 'AM', '4S', 'AO', 'AN', 'AP', 'H2', 'H0', 'H1', '4L', '4M', '4J', '4K', 'AX', 'NI', 'NO', 'NE', 'NR', 'N0', 'N1', 'N2', '48', '49', '46', '47', '44', 'TU', 'TR', 'TS', '40', '41', 'A1', 'A0', 'TL', 'TM', 'TH', 'TI', 'TE', 'TA', 'AA', 'AC', 'AB', 'AE', 'AD', '4X', 'AF', 'AI', '4W', '4T', '4U', 'T2', 'AL', '4P', '4Q', '4N', '4O', 'AS', 'AR', 'AU', 'AT', '4H', '4I', '4F', '4G', 'AZ', '4B', '4C', '4A', 'D2'])\n"
     ]
    }
   ],
   "source": [
    "ulysses = DFS(G, 'OD')\n",
    "print ulysses"
   ]
  },
  {
   "cell_type": "code",
   "execution_count": 58,
   "metadata": {
    "collapsed": false,
    "scrolled": true
   },
   "outputs": [
    {
     "name": "stdout",
     "output_type": "stream",
     "text": [
      "[]\n"
     ]
    }
   ],
   "source": [
    "nodes = read_nodes(homer)\n",
    "#print nodes"
   ]
  },
  {
   "cell_type": "code",
   "execution_count": 88,
   "metadata": {
    "collapsed": false
   },
   "outputs": [],
   "source": [
    "edges = read_edges(homer)\n",
    "#print edges"
   ]
  },
  {
   "cell_type": "code",
   "execution_count": null,
   "metadata": {
    "collapsed": true
   },
   "outputs": [],
   "source": []
  }
 ],
 "metadata": {
  "kernelspec": {
   "display_name": "Python 2",
   "language": "python",
   "name": "python2"
  },
  "language_info": {
   "codemirror_mode": {
    "name": "ipython",
    "version": 2
   },
   "file_extension": ".py",
   "mimetype": "text/x-python",
   "name": "python",
   "nbconvert_exporter": "python",
   "pygments_lexer": "ipython2",
   "version": "2.7.10"
  }
 },
 "nbformat": 4,
 "nbformat_minor": 0
}
