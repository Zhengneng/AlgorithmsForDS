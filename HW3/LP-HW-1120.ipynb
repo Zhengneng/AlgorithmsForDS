{
 "cells": [
  {
   "cell_type": "markdown",
   "metadata": {},
   "source": [
    "# Generalizations of Max-Flow\n",
    "\n",
    "The purpose of this assignment is to learn about the min-cost flow problem, a generalization of max-flow, and to familiarize yourself with implementing and solving linear programs."
   ]
  },
  {
   "cell_type": "markdown",
   "metadata": {},
   "source": [
    "## Min-Cost Flow\n",
    "\n",
    "Recall that a flow network with demands consists of a directed graph $G = (V, E)$, where each edge $(i,j) \\in E$ has a positive integer capacity $c_{ij}$ and each node $i \\in V$ has an integer demand $d_i$. In a *min-cost flow* problem, each edge $(i,j) \\in E$ also has a cost (or weight) $w_{ij}$. (Note that this input generalizes the input to two important problems we discussed so far: in max flow, the edge weights were not important while in shortest paths, the edge capacities were not important.) \n",
    "\n",
    "Given a flow network with capacities and costs, the goal is to find a *feasible* flow $f: E \\rightarrow R^+$ --that is, a flow satisfying edge capacity constraints and node demands-- that minimizes the total cost of the flow. Explicitly, the problem can be formulated as a linear program."
   ]
  },
  {
   "cell_type": "markdown",
   "metadata": {},
   "source": [
    "### Question 1\n",
    "\n",
    "Answer Problem 1 in HW4-theoretical."
   ]
  },
  {
   "cell_type": "markdown",
   "metadata": {},
   "source": [
    "### Question 2\n",
    "\n",
    "To implement your reduction from Problem 1 in HW4-theoretical, you will work with some standard benchmark instances for min-cost flow found [here](http://elib.zib.de/pub/Packages/mp-testdata/mincost/gte/index.html). The format of the data is described in the [Info](http://elib.zib.de/pub/Packages/mp-testdata/mincost/gte/info) file. You are to read in the graph from the data file in a form that can be solved using NetworkX's `min_cost_flow` function. Note that the data sometimes lists multiple edges between the same nodes, but with different costs or capacities. In forming the graph, you need to implement your reduction from the previous question and form a `DiGraph` instance, because the `min_cost_flow` function cannot handle multi-edges, even though the package offers `MultiDiGraph` objects."
   ]
  },
  {
   "cell_type": "code",
   "execution_count": 1,
   "metadata": {
    "collapsed": false
   },
   "outputs": [],
   "source": [
    "import networkx as nx\n",
    "\n",
    "def create_graph(infile):\n",
    "    file = open(infile).read().split('\\n')\n",
    "    countNodes = int([i.split(' ') for i in file if i!='' and i[0]=='p'][0][2])\n",
    "    node = {i.split(' ')[1]:i.split(' ')[2] for i in file if i!='' and i[0]=='n'}\n",
    "    arc = [i.split(' ') for i in file if i!='' and i[0]=='a']\n",
    "    DG = nx.DiGraph()\n",
    "    list = []\n",
    "    for i in arc:\n",
    "        if((i[2],i[1]) not in list):\n",
    "            tmp = (i[2],i[1])\n",
    "            list.append(tmp)\n",
    "            DG.add_edge(i[2],i[1])\n",
    "            DG.edge[i[2]][i[1]]['capacity'] = int(i[4])\n",
    "            DG.edge[i[2]][i[1]]['weight'] = int(i[5])\n",
    "        else:\n",
    "            countNodes += 1\n",
    "            countNodes = str(countNodes)\n",
    "            DG.add_edge(i[2],countNodes)\n",
    "            DG.add_edge(countNodes,i[1])\n",
    "            DG.edge[i[2]][countNodes]['capacity'] = int(i[4])\n",
    "            DG.edge[countNodes][i[1]]['capacity'] = int(i[4])\n",
    "            DG.edge[i[2]][countNodes]['weight'] = int(i[5])\n",
    "            DG.edge[countNodes][i[1]]['weight'] = 0\n",
    "            countNodes = int(countNodes)\n",
    "    for i in DG.nodes():\n",
    "        if i in node:\n",
    "            DG.node[i]['demand'] = int(node[i])\n",
    "        else:\n",
    "            DG.node[i]['demand'] = 0\n",
    "    return DG"
   ]
  },
  {
   "cell_type": "markdown",
   "metadata": {},
   "source": [
    "The following will check that your code outputs the expected min cost flow values on several test instances."
   ]
  },
  {
   "cell_type": "code",
   "execution_count": 2,
   "metadata": {
    "collapsed": false
   },
   "outputs": [
    {
     "name": "stdout",
     "output_type": "stream",
     "text": [
      "Correct value for _40 instance: True\n",
      "Correct value for _6830 instance: True\n",
      "Correct value for _176280 instance: True\n"
     ]
    }
   ],
   "source": [
    "G_40 = create_graph('gte_bad.40')\n",
    "G_6830 = create_graph('gte_bad.6830')\n",
    "G_176280 = create_graph('gte_bad.176280')\n",
    "\n",
    "print \"Correct value for _40 instance:\", nx.min_cost_flow_cost(G_40) == 52099553858\n",
    "print \"Correct value for _6830 instance:\", nx.min_cost_flow_cost(G_6830) == 299390431788\n",
    "print \"Correct value for _176280 instance:\", nx.min_cost_flow_cost(G_176280) == 510585093810"
   ]
  },
  {
   "cell_type": "markdown",
   "metadata": {},
   "source": [
    "## Linear Programming\n",
    "\n",
    "Instead of using special-purpose min-cost flow solvers, you will now formulate the problems as linear programs and use general-purpose LP solvers to find the solutions."
   ]
  },
  {
   "cell_type": "markdown",
   "metadata": {},
   "source": [
    "### Question 3\n",
    "\n",
    "Implement the following function to formulate the flow LP and return the optimal value (i.e., minimum cost over feasible flows)."
   ]
  },
  {
   "cell_type": "code",
   "execution_count": 3,
   "metadata": {
    "collapsed": false
   },
   "outputs": [],
   "source": [
    "import pulp\n",
    "\n",
    "def lp_flow_value(G):\n",
    "    f = {}\n",
    "    for (s1,s2) in G.edges():\n",
    "        f[(s1,s2)] = pulp.LpVariable(\"(\"+s1+\",\"+s2+\")\", 0, G.edge[s1][s2]['capacity'], pulp.LpInteger)\n",
    "    prob = pulp.LpProblem(\"The Min-Cost Flow Problem\", pulp.LpMinimize)\n",
    "    prob += pulp.lpSum([G.edge[i][j]['weight']*f[(i,j)] for (i,j) in G.edges()]), \"Total Cost of Flow\"\n",
    "    for i in G.nodes():\n",
    "        prob += sum(f[(s1,s2)] for (s1,s2) in G.edges() if s2==i)-sum(f[(s1,s2)] for (s1,s2) in G.edges() if s1==i) == G.node[i]['demand']           \n",
    "    prob.solve()\n",
    "    return pulp.value(prob.objective)"
   ]
  },
  {
   "cell_type": "markdown",
   "metadata": {},
   "source": [
    "The following will check that the LP finds the same optimal values as previously."
   ]
  },
  {
   "cell_type": "code",
   "execution_count": 4,
   "metadata": {
    "collapsed": false
   },
   "outputs": [
    {
     "name": "stdout",
     "output_type": "stream",
     "text": [
      "Correct value for _40 instance: True\n",
      "Correct value for _6830 instance: True\n",
      "Correct value for _176280 instance: True\n"
     ]
    }
   ],
   "source": [
    "print \"Correct value for _40 instance:\", lp_flow_value(G_40) == 52099553858\n",
    "print \"Correct value for _6830 instance:\", lp_flow_value(G_6830) == 299390431788\n",
    "print \"Correct value for _176280 instance:\", lp_flow_value(G_176280) == 510585093810"
   ]
  },
  {
   "cell_type": "code",
   "execution_count": null,
   "metadata": {
    "collapsed": true
   },
   "outputs": [],
   "source": []
  }
 ],
 "metadata": {
  "kernelspec": {
   "display_name": "Python 2",
   "language": "python",
   "name": "python2"
  },
  "language_info": {
   "codemirror_mode": {
    "name": "ipython",
    "version": 2
   },
   "file_extension": ".py",
   "mimetype": "text/x-python",
   "name": "python",
   "nbconvert_exporter": "python",
   "pygments_lexer": "ipython2",
   "version": "2.7.10"
  }
 },
 "nbformat": 4,
 "nbformat_minor": 0
}
