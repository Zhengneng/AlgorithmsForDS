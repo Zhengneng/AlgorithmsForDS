{
 "cells": [
  {
   "cell_type": "code",
   "execution_count": 1,
   "metadata": {
    "collapsed": true
   },
   "outputs": [],
   "source": [
    "class HuffmanItem:\n",
    "    marked = False\n",
    "    code = ''\n",
    "    left = -1\n",
    "    right = -1\n",
    "    def __init__(self, item = \"\", value = 0):\n",
    "        self.item = item\n",
    "        self.value = value"
   ]
  },
  {
   "cell_type": "code",
   "execution_count": 2,
   "metadata": {
    "collapsed": false
   },
   "outputs": [],
   "source": [
    "class Huffman:\n",
    "    arr = []\n",
    "    res = []\n",
    "    def __init__(self):\n",
    "        self.initArr()\n",
    "    def initArr(self):\n",
    "        self.addItem('a',20)\n",
    "        self.addItem('b',15)\n",
    "        self.addItem('c',40)\n",
    "        self.addItem('d',9)\n",
    "        self.addItem('e',21)\n",
    "    def addItem(self, item, value):\n",
    "        if item and value > 0:\n",
    "            self.arr.append(HuffmanItem(item,value))\n",
    "    def initRes(self):\n",
    "        for i in self.arr:\n",
    "            self.res.append(i)\n",
    "        for i in xrange(len(self.arr),len(self.arr)*2-1):\n",
    "            self.res.append(HuffmanItem())\n",
    "    def getMinItem(self):\n",
    "        index = 0\n",
    "        value = 0\n",
    "        item = ''\n",
    "        for i in xrange(len(self.res)):\n",
    "            if not self.res[i].marked and self.res[i].value > 0:\n",
    "                if value == 0 or self.res[i].value < value:\n",
    "                    index = i\n",
    "                    value = self.res[i].value\n",
    "                    item = self.res[i].item\n",
    "        self.res[index].marked = True\n",
    "        return [index, value, item]\n",
    "    def calcHuffman(self):\n",
    "        index = len(self.arr)\n",
    "        self.initRes()\n",
    "        while index < len(self.res):\n",
    "                min_1 = self.getMinItem()\n",
    "                left = min_1[0]\n",
    "                value_1 = min_1[1]\n",
    "                item_1 = min_1[2]\n",
    "                min_2 = self.getMinItem()\n",
    "                right = min_2[0]\n",
    "                value_2 = min_2[1]\n",
    "                item_2 = min_2[2]\n",
    "                self.res[index].left = left\n",
    "                self.res[index].right = right\n",
    "                self.res[index].value = value_1 + value_2\n",
    "                self.res[index].item = item_1 + item_2\n",
    "                index += 1\n",
    "    def huffmanCoding(self, index, code):\n",
    "        self.res[index].code += code\n",
    "        left = self.res[index].left\n",
    "        right = self.res[index].right\n",
    "        if left >= 0:\n",
    "            self.huffmanCoding(left, self.res[index].code + '0')\n",
    "        if right >= 0:\n",
    "            self.huffmanCoding(right, self.res[index].code + '1')\n",
    "    def printHuffman(self):\n",
    "        self.calcHuffman()\n",
    "        index = len(self.res)\n",
    "        self.huffmanCoding(index-1,\"\")\n",
    "        count = 0\n",
    "        for i in xrange(len(self.arr)):\n",
    "            item = self.res[i]\n",
    "            print \"%s,%d huffman code: %s\" \\\n",
    "                %(item.item, item.value, item.code)\n",
    "            count += 1"
   ]
  },
  {
   "cell_type": "code",
   "execution_count": 3,
   "metadata": {
    "collapsed": false
   },
   "outputs": [
    {
     "name": "stdout",
     "output_type": "stream",
     "text": [
      "a,20 huffman code: 00\n",
      "b,15 huffman code: 101\n",
      "c,40 huffman code: 11\n",
      "d,9 huffman code: 100\n",
      "e,21 huffman code: 01\n"
     ]
    }
   ],
   "source": [
    "Huffman().printHuffman()"
   ]
  }
 ],
 "metadata": {
  "kernelspec": {
   "display_name": "Python 2",
   "language": "python",
   "name": "python2"
  },
  "language_info": {
   "codemirror_mode": {
    "name": "ipython",
    "version": 2
   },
   "file_extension": ".py",
   "mimetype": "text/x-python",
   "name": "python",
   "nbconvert_exporter": "python",
   "pygments_lexer": "ipython2",
   "version": "2.7.10"
  }
 },
 "nbformat": 4,
 "nbformat_minor": 0
}
