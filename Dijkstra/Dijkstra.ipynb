{
 "cells": [
  {
   "cell_type": "code",
   "execution_count": 1,
   "metadata": {
    "collapsed": false
   },
   "outputs": [],
   "source": [
    "from pqdict import PQDict as pq\n",
    "def dijkstra(g, start, end = None):\n",
    "    inf = float('inf')\n",
    "    dist = {start: 0}\n",
    "    q = pq(dist)\n",
    "    p = {}\n",
    "    u = set(g.keys())\n",
    "    while u:\n",
    "        (v, d) = q.popitem()\n",
    "        dist[v] = d\n",
    "        u.remove(v)\n",
    "        if v == end:\n",
    "            break\n",
    "        for w in g[v]:\n",
    "            if w in u:\n",
    "                d = dist[v] + g[v][w]\n",
    "                if d < q.get(w, inf):\n",
    "                    q[w] = d\n",
    "                    p[w] = v\n",
    "    return dist, p"
   ]
  },
  {
   "cell_type": "code",
   "execution_count": 2,
   "metadata": {
    "collapsed": false
   },
   "outputs": [],
   "source": [
    "def shortestPath(g, start, end):\n",
    "    dist, p = dijkstra(g, start, end)\n",
    "    v = end\n",
    "    path = [v]\n",
    "    while v != start:\n",
    "        v = p[v]\n",
    "        path.append(v)\n",
    "    path.reverse()\n",
    "    return path"
   ]
  },
  {
   "cell_type": "code",
   "execution_count": 3,
   "metadata": {
    "collapsed": false
   },
   "outputs": [],
   "source": [
    "graph = {'a': {'b': 14, 'c': 9, 'd': 7},\n",
    "         'b': {'a': 14, 'c': 2, 'e': 9},\n",
    "         'c': {'a': 9, 'b': 2, 'd': 10, 'f': 11},\n",
    "         'd': {'a': 7, 'c': 10, 'f': 15},\n",
    "         'e': {'b': 9, 'f': 6},\n",
    "         'f': {'c': 11, 'd': 15, 'e': 6}}"
   ]
  },
  {
   "cell_type": "code",
   "execution_count": 4,
   "metadata": {
    "collapsed": false
   },
   "outputs": [
    {
     "data": {
      "text/plain": [
       "['a', 'c', 'b', 'e']"
      ]
     },
     "execution_count": 4,
     "metadata": {},
     "output_type": "execute_result"
    }
   ],
   "source": [
    "shortestPath(graph, 'a', 'e')"
   ]
  },
  {
   "cell_type": "code",
   "execution_count": null,
   "metadata": {
    "collapsed": true
   },
   "outputs": [],
   "source": []
  }
 ],
 "metadata": {
  "kernelspec": {
   "display_name": "Python 2",
   "language": "python",
   "name": "python2"
  },
  "language_info": {
   "codemirror_mode": {
    "name": "ipython",
    "version": 2
   },
   "file_extension": ".py",
   "mimetype": "text/x-python",
   "name": "python",
   "nbconvert_exporter": "python",
   "pygments_lexer": "ipython2",
   "version": "2.7.10"
  }
 },
 "nbformat": 4,
 "nbformat_minor": 0
}
